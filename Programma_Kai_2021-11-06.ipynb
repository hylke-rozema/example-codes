{
 "cells": [
  {
   "cell_type": "markdown",
   "metadata": {},
   "source": [
    "# Programma in Python geschreven met Kai\n"
   ]
  },
  {
   "cell_type": "code",
   "execution_count": 1,
   "metadata": {},
   "outputs": [
    {
     "name": "stdout",
     "output_type": "stream",
     "text": [
      "Pipo is superstout!\n",
      "Kai is superlief!!\n",
      "Yrian is lief en aardig!\n",
      "Teis is lief en aardig!\n",
      "Mees is lief en aardig!\n",
      "Elin is lief en aardig!\n",
      "['Pipo is superstout!', 'Kai is superlief!!', 'Yrian is lief en aardig!', 'Teis is lief en aardig!', 'Mees is lief en aardig!', 'Elin is lief en aardig!']\n"
     ]
    }
   ],
   "source": [
    "def naam_kind_is_lief(naam, lief):\n",
    "    '''Gebruikt naam en lief om een antwoord te geven.\n",
    "    \n",
    "    Arguments\n",
    "        naam : naam van een kind (string)\n",
    "        lief : 'Ja', 'Superlief' of andere string\n",
    "        \n",
    "    Returns\n",
    "        string\n",
    "    '''\n",
    "    if lief == 'Ja':\n",
    "        return naam + ' is lief en aardig!'\n",
    "    elif lief == 'Superlief':\n",
    "        return naam + ' is superlief!!'\n",
    "    else:\n",
    "        return naam + ' is superstout!'\n",
    "\n",
    "        \n",
    "kinderen = [['Pipo','Eigenwijs'], ['Kai','Superlief'], ['Yrian', 'Ja'], ['Teis','Ja'], ['Mees', 'Ja'], ['Elin','Ja']]  \n",
    "\n",
    "for item in kinderen:\n",
    "    print(naam_kind_is_lief(item[0],item[1]))\n",
    "    \n",
    "lijstje = [naam_kind_is_lief(item[0],item[1]) for item in kinderen]\n",
    "print(lijstje)"
   ]
  },
  {
   "cell_type": "code",
   "execution_count": null,
   "metadata": {},
   "outputs": [],
   "source": []
  }
 ],
 "metadata": {
  "kernelspec": {
   "display_name": "Python 3",
   "language": "python",
   "name": "python3"
  },
  "language_info": {
   "codemirror_mode": {
    "name": "ipython",
    "version": 3
   },
   "file_extension": ".py",
   "mimetype": "text/x-python",
   "name": "python",
   "nbconvert_exporter": "python",
   "pygments_lexer": "ipython3",
   "version": "3.8.5"
  }
 },
 "nbformat": 4,
 "nbformat_minor": 4
}
